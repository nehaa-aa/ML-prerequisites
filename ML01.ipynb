{
  "nbformat": 4,
  "nbformat_minor": 0,
  "metadata": {
    "colab": {
      "provenance": []
    },
    "kernelspec": {
      "name": "python3",
      "display_name": "Python 3"
    },
    "language_info": {
      "name": "python"
    }
  },
  "cells": [
    {
      "cell_type": "code",
      "execution_count": 40,
      "metadata": {
        "colab": {
          "base_uri": "https://localhost:8080/"
        },
        "id": "zDwJQsCWRSRH",
        "outputId": "dc741a62-dfce-4ced-c20a-723f7d3ecaa7"
      },
      "outputs": [
        {
          "output_type": "stream",
          "name": "stdout",
          "text": [
            "Vowels : 5\n",
            "Consonants : 10\n",
            "AB:  [[42, 51], [46, 56]]\n",
            "Multiplication not possible\n",
            "No. of commom elements in the 2 lists= 4\n",
            "Transpose Matrix:  [[1, 4], [2, 5], [3, 6]]\n"
          ]
        }
      ],
      "source": [
        "#1 Write a program to count the number of vowels and consonants in a string\n",
        "def countVowelnConsonants(stringy):\n",
        "    vowels=[\"a\",\"e\",\"i\",\"o\",\"u\"]\n",
        "    v=0\n",
        "    c=0\n",
        "    stringy=stringy.replace(\" \",\"\") #Removing white spaces\n",
        "    for s in stringy:\n",
        "        #checking if the charater is a vowel\n",
        "        if s in vowels:\n",
        "            v= v+1\n",
        "        #checking if the charater is a consonant\n",
        "        elif s.isalpha():\n",
        "            c= c+1\n",
        "    return v,c\n",
        "\n",
        "\n",
        "#2 Write a program that accepts two matrices A and B as input and returns their product AB. Check if A&B are multipliable, if not return error message.\n",
        "def matrixMultiplication(A,B):\n",
        "  #number of rows and columns in A & B respectively\n",
        "  Arow= len(A)\n",
        "  Aclm= len(A[0])\n",
        "  Brow= len(B)\n",
        "  Bclm= len(B[0])\n",
        "\n",
        "  try:\n",
        "    if Aclm != Brow:\n",
        "      raise ValueError(\"Multiplication not possible\")\n",
        "    else:\n",
        "      #creating an empty matrix for size Arows x Bcolumns\n",
        "      AB=[[0 for y in range(Bclm)]for x in range(Arow)]\n",
        "      for i in range(Arow):\n",
        "        for j in range(Bclm):\n",
        "          for k in range(Aclm):\n",
        "            #calculating resultant matrix\n",
        "            AB[i][j]+= (A[i][k] * B[k][j])\n",
        "      return AB\n",
        "  except ValueError as e:\n",
        "    return e\n",
        "\n",
        "\n",
        "#3 Write a program to find the number of common elements between two lists. The list contains integers.\n",
        "def commmonElements(listX,listY):\n",
        "  dictX={}\n",
        "  dictY={}\n",
        "  #Adding frequency count of each number in list1 to a dictionary\n",
        "  for x in listX:\n",
        "    if x in dictX:\n",
        "      dictX[x]+=1\n",
        "    else:\n",
        "      dictX[x]=1\n",
        "  #Adding frequency count of each number in list2 to a dictionary\n",
        "  for y in listY:\n",
        "    if y in dictY:\n",
        "      dictY[y]+=1\n",
        "    else:\n",
        "      dictY[y]=1\n",
        "  #Adding common elements to another dictionary\n",
        "  common={}\n",
        "  for x in dictX:\n",
        "    if x in dictY:\n",
        "      common[x]= 1\n",
        "  #returning number of common elements\n",
        "  return len(common)\n",
        "\n",
        "\n",
        "#4 Write a program that accepts a matrix as input and returns its transpose.\n",
        "def transposeMatrix(X):\n",
        "  Xrow=len(X)\n",
        "  Xclm=len(X[0])\n",
        "  #creating empty matrix to store transpose matrix, with dimension Xcolumn x Xrows\n",
        "  Y=[[0 for y in range(Xrow)]for x in range(Xclm)]\n",
        "\n",
        "  for i in range(Xrow):\n",
        "    for j in range(Xclm):\n",
        "      Y[j][i]=X[i][j]\n",
        "  return Y\n",
        "\n",
        "#Main method\n",
        "if __name__ == \"__main__\":\n",
        "    v,c= countVowelnConsonants(\"ML is interesting.\")\n",
        "    print(\"Vowels :\", v)\n",
        "    print(\"Consonants :\", c)\n",
        "\n",
        "    A=[[2,3,4],[3,2,5]]\n",
        "    B=[[1,2],[4,5],[7,8]]\n",
        "    print(\"AB: \",matrixMultiplication(A,B))\n",
        "    A = [[1, 2], [3, 4]]\n",
        "    B = [[5, 6, 7], [8, 9, 10],[8, 9, 10]]\n",
        "    print(matrixMultiplication(A, B))\n",
        "\n",
        "    list1=[2,3,4,5]\n",
        "    list2=[12,2,3,4,5,6,7]\n",
        "    print(\"No. of commom elements in the 2 lists=\",commmonElements(list1,list2))\n",
        "    print(\"Transpose Matrix: \",transposeMatrix([[1,2,3],[4,5,6]]))\n"
      ]
    }
  ]
}