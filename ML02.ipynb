{
  "nbformat": 4,
  "nbformat_minor": 0,
  "metadata": {
    "colab": {
      "provenance": []
    },
    "kernelspec": {
      "name": "python3",
      "display_name": "Python 3"
    },
    "language_info": {
      "name": "python"
    }
  },
  "cells": [
    {
      "cell_type": "code",
      "execution_count": 26,
      "metadata": {
        "colab": {
          "base_uri": "https://localhost:8080/",
          "height": 662
        },
        "id": "UFCpr2Y0QLIv",
        "outputId": "4bb06b08-a014-4b1b-d934-e9ab0b3c678a"
      },
      "outputs": [
        {
          "output_type": "stream",
          "name": "stdout",
          "text": [
            "Dataset loaded:\n",
            "  Customer  Candies (#)  Mangoes (Kg)  Milk Packets (#)  Payment (Rs)\n",
            "0      C_1           20             6                 2           386\n",
            "1      C_2           16             3                 6           289\n",
            "2      C_3           27             6                 2           393\n",
            "3      C_4           19             1                 2           110\n",
            "4      C_5           24             4                 2           280\n",
            "5      C_6           22             1                 5           167\n",
            "6      C_7           15             4                 2           271\n",
            "7      C_8           18             4                 2           274\n",
            "8      C_9           21             1                 4           148\n",
            "9     C_10           16             2                 4           198\n",
            "A: [[20  6  2]\n",
            " [16  3  6]\n",
            " [27  6  2]\n",
            " [19  1  2]\n",
            " [24  4  2]\n",
            " [22  1  5]\n",
            " [15  4  2]\n",
            " [18  4  2]\n",
            " [21  1  4]\n",
            " [16  2  4]]\n",
            "C: [386 289 393 110 280 167 271 274 148 198]\n",
            "Dimensionality of A 3\n",
            "Number of vectors 10\n",
            "Rank of A 3\n",
            "Cost of each product using pseudo inverse: [ 1. 55. 18.]\n",
            "Model Vector [ 1. 55. 18.]\n"
          ]
        },
        {
          "output_type": "error",
          "ename": "NameError",
          "evalue": "name 'C_1' is not defined",
          "traceback": [
            "\u001b[0;31m---------------------------------------------------------------------------\u001b[0m",
            "\u001b[0;31mNameError\u001b[0m                                 Traceback (most recent call last)",
            "\u001b[0;32m<ipython-input-26-6e44c1f01de6>\u001b[0m in \u001b[0;36m<cell line: 0>\u001b[0;34m()\u001b[0m\n\u001b[1;32m     27\u001b[0m \u001b[0mprint\u001b[0m\u001b[0;34m(\u001b[0m\u001b[0;34m\"Model Vector\"\u001b[0m\u001b[0;34m,\u001b[0m \u001b[0mX\u001b[0m\u001b[0;34m)\u001b[0m\u001b[0;34m\u001b[0m\u001b[0;34m\u001b[0m\u001b[0m\n\u001b[1;32m     28\u001b[0m \u001b[0;31m#A3\u001b[0m\u001b[0;34m\u001b[0m\u001b[0;34m\u001b[0m\u001b[0m\n\u001b[0;32m---> 29\u001b[0;31m \u001b[0mRichPoorClassifer\u001b[0m\u001b[0;34m(\u001b[0m\u001b[0mC_1\u001b[0m\u001b[0;34m)\u001b[0m\u001b[0;34m\u001b[0m\u001b[0;34m\u001b[0m\u001b[0m\n\u001b[0m",
            "\u001b[0;31mNameError\u001b[0m: name 'C_1' is not defined"
          ]
        }
      ],
      "source": [
        "import pandas as pd\n",
        "import numpy as np\n",
        "import matplotlib.pyplot as plt\n",
        "\n",
        "def RichPoorClassifer(C):\n",
        "    if (df.loc[\"Customer\"]==C, Payment (Rs) >200):\n",
        "      print(\"You're rich\")\n",
        "\n",
        "\n",
        "\n",
        "\n",
        "df=pd.read_excel(\"/Lab Session Data.xlsx\",usecols=['Customer','Candies (#)','Mangoes (Kg)','Milk Packets (#)','Payment (Rs)'])\n",
        "print(\"Dataset loaded:\")\n",
        "print(df)\n",
        "A=np.array([df['Candies (#)'],df['Mangoes (Kg)'], df['Milk Packets (#)']])\n",
        "A=np.transpose(A)\n",
        "print(\"A:\",A)\n",
        "C=np.array(df['Payment (Rs)'])\n",
        "C=np.transpose(C)\n",
        "print(\"C:\",C)\n",
        "print(\"Dimensionality of A\",A.shape[1])\n",
        "print(\"Number of vectors\", A.shape[0])\n",
        "print(\"Rank of A\", np.linalg.matrix_rank(A))\n",
        "X=np.matmul(np.linalg.pinv(A),C)   #X=A^-1 *B\n",
        "print(\"Cost of each product using pseudo inverse:\",X)\n",
        "#A2\n",
        "print(\"Model Vector\", X)\n",
        "#A3\n",
        "RichPoorClassifer(C_1)\n"
      ]
    }
  ]
}