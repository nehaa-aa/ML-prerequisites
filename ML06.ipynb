{
  "nbformat": 4,
  "nbformat_minor": 0,
  "metadata": {
    "colab": {
      "provenance": []
    },
    "kernelspec": {
      "name": "python3",
      "display_name": "Python 3"
    },
    "language_info": {
      "name": "python"
    }
  },
  "cells": [
    {
      "cell_type": "code",
      "execution_count": 1,
      "metadata": {
        "id": "9AdunPQME2Lz"
      },
      "outputs": [],
      "source": [
        "import numpy as np\n",
        "\n",
        "def equal_width_binning(target_values, num_bins=4):\n",
        "    \"\"\" Bins the continuous final marks into equal-width bins. \"\"\"\n",
        "    min_val, max_val = min(target_values), max(target_values)\n",
        "    bin_width = (max_val - min_val) / num_bins\n",
        "    bins = [min_val + i * bin_width for i in range(num_bins + 1)]\n",
        "    bin_indices = np.digitize(target_values, bins, right=True)\n",
        "    return bin_indices, bins\n",
        "\n",
        "def calculate_entropy(bin_indices):\n",
        "    \"\"\" Computes entropy given bin indices. \"\"\"\n",
        "    unique, counts = np.unique(bin_indices, return_counts=True)\n",
        "    probabilities = counts / counts.sum()\n",
        "    entropy = -np.sum(probabilities * np.log2(probabilities))\n",
        "    return entropy\n",
        "\n"
      ]
    },
    {
      "cell_type": "code",
      "source": [],
      "metadata": {
        "id": "iFZmcYuWFLIB"
      },
      "execution_count": null,
      "outputs": []
    }
  ]
}