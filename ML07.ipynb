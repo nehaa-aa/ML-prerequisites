{
  "nbformat": 4,
  "nbformat_minor": 0,
  "metadata": {
    "colab": {
      "provenance": [],
      "authorship_tag": "ABX9TyOUFAfoAig/o6JBv/j7srxQ",
      "include_colab_link": true
    },
    "kernelspec": {
      "name": "python3",
      "display_name": "Python 3"
    },
    "language_info": {
      "name": "python"
    }
  },
  "cells": [
    {
      "cell_type": "markdown",
      "metadata": {
        "id": "view-in-github",
        "colab_type": "text"
      },
      "source": [
        "<a href=\"https://colab.research.google.com/github/nehaa-aa/ML-prerequisites/blob/main/ML07.ipynb\" target=\"_parent\"><img src=\"https://colab.research.google.com/assets/colab-badge.svg\" alt=\"Open In Colab\"/></a>"
      ]
    },
    {
      "cell_type": "code",
      "execution_count": null,
      "metadata": {
        "id": "u5iGdAHhE22L"
      },
      "outputs": [],
      "source": [
        "import pandas as pd\n",
        "from sklearn.ensemble import RandomForestRegressor\n",
        "from sklearn.model_selection import RandomizedSearchCV\n",
        "from scipy.stats import randint\n",
        "\n",
        "# Load your dataset\n",
        "df = pd.read_excel(\"/training_mathbert.xlsx\")  # Update with your actual file path\n",
        "\n",
        "# Split into features and target variable\n",
        "X = df.drop(columns=['output'])  # Features (embeddings)\n",
        "y = df['output']  # Target variable (correctness score)\n",
        "\n",
        "# Define hyperparameter search space\n",
        "param_dist = {\n",
        "    'n_estimators': randint(50, 300),  # Number of trees\n",
        "    'max_depth': [None] + list(range(5, 50, 5)),  # Tree depth\n",
        "    'min_samples_split': randint(2, 10),  # Minimum samples required to split a node\n",
        "    'min_samples_leaf': randint(1, 10),  # Minimum samples per leaf node\n",
        "    'max_features': ['auto', 'sqrt', 'log2']  # Features considered for each split\n",
        "}\n",
        "\n",
        "# Define the Random Forest model\n",
        "rf = RandomForestRegressor(random_state=42)\n",
        "\n",
        "# Setup RandomizedSearchCV\n",
        "random_search = RandomizedSearchCV(\n",
        "    rf, param_distributions=param_dist,\n",
        "    n_iter=20, cv=5, scoring='neg_mean_squared_error',\n",
        "    n_jobs=-1, random_state=42\n",
        ")\n",
        "\n",
        "# Fit the model\n",
        "random_search.fit(X, y)\n",
        "\n",
        "# Print best parameters\n",
        "print(\"Best Parameters:\", random_search.best_params_)\n"
      ]
    }
  ]
}
